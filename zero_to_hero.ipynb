{
 "nbformat": 4,
 "nbformat_minor": 2,
 "metadata": {
  "language_info": {
   "name": "python",
   "codemirror_mode": {
    "name": "ipython",
    "version": 3
   },
   "version": "3.7.6-final"
  },
  "orig_nbformat": 2,
  "file_extension": ".py",
  "mimetype": "text/x-python",
  "name": "python",
  "npconvert_exporter": "python",
  "pygments_lexer": "ipython3",
  "version": 3,
  "kernelspec": {
   "name": "python37664bitlearningconda1accd64738ee44818797f18d295c778c",
   "display_name": "Python 3.7.6 64-bit ('learning': conda)"
  }
 },
 "cells": [
  {
   "cell_type": "code",
   "execution_count": null,
   "metadata": {},
   "outputs": [],
   "source": [
    "#install libraries\n",
    "!pip install tensorflow"
   ]
  },
  {
   "cell_type": "code",
   "execution_count": null,
   "metadata": {},
   "outputs": [],
   "source": []
  },
  {
   "cell_type": "code",
   "execution_count": 8,
   "metadata": {},
   "outputs": [],
   "source": [
    "#Import libraries\n",
    "import tensorflow as tf\n",
    "#%tensorflow_version 2.x"
   ]
  },
  {
   "cell_type": "code",
   "execution_count": 9,
   "metadata": {},
   "outputs": [
    {
     "output_type": "stream",
     "name": "stdout",
     "text": "<module 'tensorflow_core._api.v2.version' from 'C:\\\\Users\\\\bharg\\\\Anaconda3\\\\envs\\\\learning\\\\lib\\\\site-packages\\\\tensorflow_core\\\\_api\\\\v2\\\\version\\\\__init__.py'>\n"
    }
   ],
   "source": [
    "#test if visual code and tensorflow is working\n",
    "print(tf.version)"
   ]
  },
  {
   "cell_type": "code",
   "execution_count": 10,
   "metadata": {},
   "outputs": [],
   "source": [
    "string = tf.Variable(\"this is a string\", tf.string) \n",
    "number = tf.Variable(324, tf.int16)\n",
    "floating = tf.Variable(3.567, tf.float64)"
   ]
  },
  {
   "cell_type": "code",
   "execution_count": 24,
   "metadata": {},
   "outputs": [
    {
     "output_type": "stream",
     "name": "stdout",
     "text": "<tf.Variable 'Variable:0' shape=(1,) dtype=string, numpy=array([b'Test'], dtype=object)>\n<tf.Variable 'Variable:0' shape=(3, 4) dtype=string, numpy=\narray([[b'test', b'ok', b'ok', b'ok'],\n       [b'test', b'ok', b'ok', b'ok'],\n       [b'test', b'ok', b'ok', b'yes']], dtype=object)>\n<tf.Variable 'Variable:0' shape=() dtype=float32, numpy=3.567>\n"
    }
   ],
   "source": [
    "#rank or degree , rank 0 is scalar. rank1 has with one list, rank2 has list inside list. also called matrices\n",
    "rank1_tensor = tf.Variable([\"Test\"], tf.string) \n",
    "rank2_tensor = tf.Variable([[\"test\", \"ok\", \"ok\", \"ok\"],[\"test\", \"ok\", \"ok\", \"ok\"], [\"test\", \"ok\", \"ok\", \"yes\"]], tf.string)\n",
    "print(rank1_tensor)\n",
    "print(rank2_tensor)\n",
    "print(floating)"
   ]
  },
  {
   "cell_type": "code",
   "execution_count": 25,
   "metadata": {},
   "outputs": [
    {
     "output_type": "execute_result",
     "data": {
      "text/plain": "<tf.Tensor: shape=(), dtype=int32, numpy=2>"
     },
     "metadata": {},
     "execution_count": 25
    }
   ],
   "source": [
    "tf.rank(rank2_tensor)"
   ]
  },
  {
   "cell_type": "code",
   "execution_count": null,
   "metadata": {},
   "outputs": [],
   "source": []
  }
 ]
}