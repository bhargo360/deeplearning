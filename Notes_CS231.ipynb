{
 "cells": [
  {
   "cell_type": "markdown",
   "metadata": {},
   "source": [
    "Notes from CS231"
   ]
  },
  {
   "cell_type": "markdown",
   "metadata": {},
   "source": [
    "Lecture 1\n",
    "\n",
    "pascal visual object classes\n",
    "imagenet\n",
    "cs229 machine learning"
   ]
  },
  {
   "cell_type": "markdown",
   "metadata": {},
   "source": [
    "Lecture 2\n",
    "\n",
    "Challenges of image classification\n",
    "Illuminations\n",
    "Deformation\n",
    "Occlusion (not seeing the whole picture/cat)\n",
    "Background cutter ( background similar to object)\n",
    "Intraclass variation\n",
    "\n",
    "CIFAR10 example dataset\n",
    "Train O(1)\n",
    "Testing O(N)\n",
    "Nearest neighbour classifier\n",
    "K-nearest neighbour (Distance matrix)\n",
    "\n",
    "Parametric Approach\n",
    "Image -> f(x,W)-> 10 numbers giving class score\n",
    "W is parameters or weights\n",
    "simple function is f(x,W)=Wx + b ; b is the bias term"
   ]
  }
 ],
 "metadata": {
  "kernelspec": {
   "display_name": "Python 3",
   "language": "python",
   "name": "python3"
  },
  "language_info": {
   "codemirror_mode": {
    "name": "ipython",
    "version": 3
   },
   "file_extension": ".py",
   "mimetype": "text/x-python",
   "name": "python",
   "nbconvert_exporter": "python",
   "pygments_lexer": "ipython3",
   "version": "3.7.5"
  }
 },
 "nbformat": 4,
 "nbformat_minor": 4
}
